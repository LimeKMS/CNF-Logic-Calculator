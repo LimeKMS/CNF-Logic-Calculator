{
 "cells": [
  {
   "cell_type": "code",
   "execution_count": 18,
   "metadata": {},
   "outputs": [
    {
     "name": "stdout",
     "output_type": "stream",
     "text": [
      "{'dissert': {'cake': 1, 'ice-cream': -1}, 'drink': {'wine': 2, 'beer': -2}, 'main': {'fish': 3, 'beef': -3}}\n",
      "['NOT wine OR NOT ice-cream AND beer OR ice-cream']\n",
      "{'cake': 1, 'ice-cream': -1}\n",
      "{'wine': 2, 'beer': -2}\n",
      "{'fish': 3, 'beef': -3}\n",
      "{'cake': 1, 'ice-cream': -1}\n",
      "{'wine': 2, 'beer': -2}\n",
      "{'fish': 3, 'beef': -3}\n",
      "{'cake': 1, 'ice-cream': -1}\n",
      "{'wine': 2, 'beer': -2}\n",
      "{'fish': 3, 'beef': -3}\n",
      "{'cake': 1, 'ice-cream': -1}\n",
      "{'wine': 2, 'beer': -2}\n",
      "{'fish': 3, 'beef': -3}\n",
      "[[[-2, 1], [-2, -1]]]\n"
     ]
    }
   ],
   "source": [
    "from pysat.formula import CNF\n",
    "\n",
    "# parse attributes file\n",
    "def parse_attr(text):\n",
    "    lines = text.strip().split('\\n')\n",
    "    parsed = {}\n",
    "    for (i, line) in enumerate(lines, start=1):\n",
    "        category, items_str = line.split(':')\n",
    "        items = items_str.split(',')\n",
    "        parsed[category.strip()] = {items[0].strip(): i, items[1].strip(): -i} # the name of the attribute value and its numeric representation\n",
    "    return parsed\n",
    "\n",
    "def parse_constraints_into_cnf(text, attrs: dict):\n",
    "    lines = text.strip().split('\\n')\n",
    "    cnf_repr = []\n",
    "    print(lines)\n",
    "    for (lineNum, line) in enumerate(lines):\n",
    "        cnf_constraint = []\n",
    "        clauses: list[str] = line.strip().split('AND') # A list of disjunctive clauses, e.g. A OR B AND C OR D would produce ['A OR B', 'C OR D']\n",
    "        for clause in clauses:\n",
    "            cnf_clause = []\n",
    "            literals: list[str] = clause.strip().split('OR')\n",
    "            for literal in literals:\n",
    "                \n",
    "                literal_name = literal.strip().removeprefix('NOT').strip()\n",
    "                literal_numeric = None\n",
    "                for attribute in attrs.values():\n",
    "                    print(attribute)\n",
    "                    if literal_name.strip() in attribute:\n",
    "                        literal_numeric = attribute[literal_name]\n",
    "                if (literal_numeric is None): \n",
    "                    print(\"Error parsing '\" + literal + \"' on line \" + str(lineNum) )\n",
    "                    return []\n",
    "                if (literal_numeric is not None and literal.strip().startswith('NOT')):\n",
    "                    literal_numeric = -literal_numeric\n",
    "\n",
    "                cnf_clause.append(literal_numeric)\n",
    "\n",
    "            cnf_constraint.append(cnf_clause)\n",
    "\n",
    "        cnf_repr.append(cnf_constraint)\n",
    "    return cnf_repr\n",
    "\n",
    "with open(\"ExampleCase/attributes.txt\") as attrfile:\n",
    "    attr = parse_attr(attrfile.read())\n",
    "    print(attr)\n",
    "    with open(\"ExampleCase/constraints.txt\") as constrfile:\n",
    "        print(parse_constraints_into_cnf(constrfile.read(), attr))\n"
   ]
  }
 ],
 "metadata": {
  "kernelspec": {
   "display_name": ".venv",
   "language": "python",
   "name": "python3"
  },
  "language_info": {
   "codemirror_mode": {
    "name": "ipython",
    "version": 3
   },
   "file_extension": ".py",
   "mimetype": "text/x-python",
   "name": "python",
   "nbconvert_exporter": "python",
   "pygments_lexer": "ipython3",
   "version": "3.11.1"
  },
  "orig_nbformat": 4
 },
 "nbformat": 4,
 "nbformat_minor": 2
}
