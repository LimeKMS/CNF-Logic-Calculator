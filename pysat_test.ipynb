{
 "cells": [
  {
   "cell_type": "code",
   "execution_count": 48,
   "metadata": {},
   "outputs": [],
   "source": [
    "from pysat.formula import CNF\n",
    "from pysat.solvers import Solver\n",
    "\n",
    "# parse attributes file\n",
    "def parse_attr(text):\n",
    "    lines = text.strip().split('\\n')\n",
    "    parsed = {}\n",
    "    for (i, line) in enumerate(lines, start=1):\n",
    "        category, items_str = line.split(':')\n",
    "        items = items_str.split(',')\n",
    "        parsed[category.strip()] = {items[0].strip(): i, items[1].strip(): -i} # the name of the attribute value and its numeric representation\n",
    "    return parsed\n",
    "\n",
    "def parse_constraints_into_cnf(text, attrs: dict):\n",
    "    lines = text.strip().split('\\n')\n",
    "    cnf_repr = []\n",
    "    for (lineNum, line) in enumerate(lines):\n",
    "        cnf_constraint = []\n",
    "        clauses: list[str] = line.strip().split('AND') # A list of disjunctive clauses, e.g. A OR B AND C OR D would produce ['A OR B', 'C OR D']\n",
    "        for clause in clauses:\n",
    "            cnf_clause = []\n",
    "            literals: list[str] = clause.strip().split('OR') # A list of literals in a clause, e.g. ['A', 'NOT B']\n",
    "            for literal in literals:\n",
    "                \n",
    "                literal_name = literal.strip().removeprefix('NOT').strip()\n",
    "                literal_numeric = None\n",
    "                for attribute in attrs.values():\n",
    "                    if literal_name.strip() in attribute:\n",
    "                        literal_numeric = attribute[literal_name]\n",
    "                if (literal_numeric is None): \n",
    "                    print(\"Error parsing '\" + literal + \"' on line \" + str(lineNum) )\n",
    "                    return []\n",
    "                if (literal_numeric is not None and literal.strip().startswith('NOT')):\n",
    "                    literal_numeric = -literal_numeric\n",
    "\n",
    "                cnf_clause.append(literal_numeric)\n",
    "\n",
    "            cnf_constraint.append(cnf_clause)\n",
    "\n",
    "        cnf_repr.append(cnf_constraint)\n",
    "    return cnf_repr"
   ]
  },
  {
   "cell_type": "code",
   "execution_count": 59,
   "metadata": {},
   "outputs": [],
   "source": [
    "\n",
    "# Get the name of an attribute value from its numeric representation, e.g. -1 gets turned into 'ice-cream'\n",
    "def get_attr_name_from_numeric(numeric: int, attrs: dict):\n",
    "    for attribute in attrs.values():\n",
    "        for key in attribute:\n",
    "            if (attribute[key] == numeric): \n",
    "                return key\n",
    "    \n",
    "    return None"
   ]
  },
  {
   "cell_type": "code",
   "execution_count": 60,
   "metadata": {},
   "outputs": [
    {
     "name": "stdout",
     "output_type": "stream",
     "text": [
      "['ice-cream', 'beer', 'beef']\n",
      "['ice-cream', 'beer', 'fish']\n",
      "['cake', 'beer', 'fish']\n",
      "['cake', 'wine', 'fish']\n",
      "['cake', 'beer', 'beef']\n",
      "['ice-cream', 'wine', 'fish']\n"
     ]
    }
   ],
   "source": [
    "\n",
    "with open(\"ExampleCase/attributes.txt\") as attrfile:\n",
    "    attr = parse_attr(attrfile.read())\n",
    "    with open(\"ExampleCase/constraints.txt\") as constrfile:\n",
    "        constraints = parse_constraints_into_cnf(constrfile.read(), attr)\n",
    "        cnf = CNF()\n",
    "        for constraint in constraints:\n",
    "            cnf.extend(constraint)\n",
    "\n",
    "        with Solver(bootstrap_with=cnf) as solver:\n",
    "            for m in solver.enum_models():\n",
    "                print([get_attr_name_from_numeric(x, attr) for x in m])\n",
    "\n",
    "        "
   ]
  },
  {
   "cell_type": "code",
   "execution_count": null,
   "metadata": {},
   "outputs": [],
   "source": []
  }
 ],
 "metadata": {
  "kernelspec": {
   "display_name": ".venv",
   "language": "python",
   "name": "python3"
  },
  "language_info": {
   "codemirror_mode": {
    "name": "ipython",
    "version": 3
   },
   "file_extension": ".py",
   "mimetype": "text/x-python",
   "name": "python",
   "nbconvert_exporter": "python",
   "pygments_lexer": "ipython3",
   "version": "3.10.2"
  },
  "orig_nbformat": 4
 },
 "nbformat": 4,
 "nbformat_minor": 2
}
